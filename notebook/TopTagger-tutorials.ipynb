{
 "cells": [
  {
   "cell_type": "markdown",
   "metadata": {},
   "source": [
    "## Setup python Environment for Nersc jupyter hub\n",
    "\n",
    "1) create an isolated python environment namely `tutorial` via [conda](https://conda.io/projects/conda/en/latest/user-guide/tasks/manage-environments.html#creating-an-environment-with-commands). \n",
    "\n",
    "\\[Optional\\] Create a configuration file for `conda`: `~/.condarc`, \n",
    "and specify the location of envrionments that will house python modules. \n",
    "This directory will grow very quickly. I suggest to use a project directory.\n",
    "```json\n",
    "envs_dirs:\n",
    "  - /global/cfs/cdirs/atlas/xju/conda/envs\n",
    "report_errors: true\n",
    "```\n",
    "\n",
    "1.1) Following commands is to install an environment named `tutorial`. \n",
    "```bash\n",
    "module load python\n",
    "conda create -n tutorial python=3.8 ipykernel\n",
    "source $(which conda | sed -e s#bin/conda#bin/activate#)  tutorial\n",
    "python -m ipykernel install --user --name tutorial --display-name a-Tutorial\n",
    "```\n",
    "\n",
    "It will install a kernel file at `$HOME/.local/share/jupyter/kernels/tutorial/kernel.json`. \n",
    "\n",
    "1.2) create a `$HOME/.local/share/jupyter/kernels/tutorial/setup.sh` with the following contents:\n",
    "```bash\n",
    "#!/bin/bash\n",
    "module load python\n",
    "source $(which conda | sed -e s#bin/conda#bin/activate#)  tutorial\n",
    "python -m ipykernel_launcher $@\n",
    "```\n",
    "and make it executable `chmod +x $HOME/.local/share/jupyter/kernels/tutorial/setup.sh`.\n",
    "\n",
    "Get absolute path: `readlink -f $HOME/.local/share/jupyter/kernels/tutorial/setup.sh`.\n",
    "\n",
    "1.3) update the `$HOME/.local/share/jupyter/kernels/tutorial/kernel.json` as the following. \n",
    "Note that the path to `setup.sh` should be the absolute path.\n",
    "```json\n",
    "{\n",
    " \"argv\": [\n",
    "  \"/global/u1/x/xju/.local/share/jupyter/kernels/tutorial/setup.sh\",\n",
    "  \"-f\",\n",
    "  \"{connection_file}\"\n",
    " ],\n",
    " \"display_name\": \"a-Tutorial\",\n",
    " \"language\": \"python\"\n",
    "}\n",
    "```"
   ]
  },
  {
   "cell_type": "code",
   "execution_count": 5,
   "metadata": {},
   "outputs": [
    {
     "name": "stdout",
     "output_type": "stream",
     "text": [
      "/global/homes/x/xju/.conda/envs/tf2.4/bin/python\n",
      "/global/homes/x/xju/.conda/envs/tf2.4/bin/pip\n"
     ]
    }
   ],
   "source": [
    "!which python\n",
    "!which pip"
   ]
  },
  {
   "cell_type": "code",
   "execution_count": null,
   "metadata": {},
   "outputs": [],
   "source": [
    "!pip install git+https://github.com/xju2/root_gnn.git"
   ]
  },
  {
   "cell_type": "code",
   "execution_count": 1,
   "metadata": {},
   "outputs": [],
   "source": [
    "import matplotlib.pyplot as plt\n",
    "import numpy as np\n",
    "import pandas as pd\n",
    "import networkx as nx\n",
    "\n",
    "from graph_nets import utils_np\n",
    "from graph_nets import utils_tf\n",
    "from graph_nets import graphs as Graphs\n",
    "\n",
    "import itertools\n",
    "from typing import Optional"
   ]
  },
  {
   "cell_type": "code",
   "execution_count": 2,
   "metadata": {
    "tags": []
   },
   "outputs": [],
   "source": [
    "def print_graphs_tuple(g, data=True):\n",
    "    for field_name in Graphs.ALL_FIELDS:\n",
    "        per_replica_sample = getattr(g, field_name)\n",
    "        if per_replica_sample is None:\n",
    "            print(field_name, \"EMPTY\")\n",
    "        else:\n",
    "            print(field_name, \"is with shape\", per_replica_sample.shape)\n",
    "            if data and  field_name != \"edges\":\n",
    "                print(per_replica_sample)"
   ]
  },
  {
   "cell_type": "markdown",
   "metadata": {},
   "source": [
    "### Creating graphs from networkx\n",
    "\n",
    "[networkx](https://networkx.org/documentation/stable/tutorial.html) is a Python package for the study of graphs.\n"
   ]
  },
  {
   "cell_type": "code",
   "execution_count": 3,
   "metadata": {},
   "outputs": [],
   "source": [
    "g = nx.DiGraph()\n",
    "\n",
    "# add nodes\n",
    "[g.add_node(idx, features=np.array([1.*idx])) for idx in range(4)];\n",
    "\n",
    "# add edges\n",
    "edge_lists = [(0, 1), (1, 2), (2, 3), (3, 0)]\n",
    "[g.add_edge(i, j, features=np.array([abs(i-j)])) for i,j in edge_lists];"
   ]
  },
  {
   "cell_type": "code",
   "execution_count": 4,
   "metadata": {},
   "outputs": [
    {
     "data": {
      "image/png": "[encoded data removed]",
      "text/plain": [
       "<Figure size 288x288 with 1 Axes>"
      ]
     },
     "metadata": {},
     "output_type": "display_data"
    }
   ],
   "source": [
    "plt.figure(figsize=(4, 4))\n",
    "pos = nx.spring_layout(g)\n",
    "nx.draw(g, pos, node_size=400, alpha=0.85, node_color=\"#1f78b4\", with_labels=True)"
   ]
  },
  {
   "cell_type": "markdown",
   "metadata": {},
   "source": [
    "obtain the adjacency matrix"
   ]
  },
  {
   "cell_type": "code",
   "execution_count": 5,
   "metadata": {},
   "outputs": [
    {
     "data": {
      "text/plain": [
       "array([[0., 1., 0., 0.],\n",
       "       [0., 0., 1., 0.],\n",
       "       [0., 0., 0., 1.],\n",
       "       [1., 0., 0., 0.]])"
      ]
     },
     "execution_count": 5,
     "metadata": {},
     "output_type": "execute_result"
    }
   ],
   "source": [
    "adj = np.asarray(nx.to_numpy_matrix(g))\n",
    "adj"
   ]
  },
  {
   "cell_type": "code",
   "execution_count": 6,
   "metadata": {},
   "outputs": [
    {
     "data": {
      "text/plain": [
       "OutEdgeView([(0, 1), (1, 2), (2, 3), (3, 0)])"
      ]
     },
     "execution_count": 6,
     "metadata": {},
     "output_type": "execute_result"
    }
   ],
   "source": [
    "g.edges()"
   ]
  },
  {
   "cell_type": "code",
   "execution_count": 7,
   "metadata": {},
   "outputs": [],
   "source": [
    "g_tuple = utils_np.networkxs_to_graphs_tuple([g])"
   ]
  },
  {
   "cell_type": "code",
   "execution_count": 8,
   "metadata": {},
   "outputs": [
    {
     "data": {
      "text/plain": [
       "GraphsTuple(nodes=array([[0.],\n",
       "       [1.],\n",
       "       [2.],\n",
       "       [3.]]), edges=array([[1],\n",
       "       [1],\n",
       "       [1],\n",
       "       [3]]), receivers=array([1, 2, 3, 0], dtype=int32), senders=array([0, 1, 2, 3], dtype=int32), globals=None, n_node=array([4], dtype=int32), n_edge=array([4], dtype=int32))"
      ]
     },
     "execution_count": 8,
     "metadata": {},
     "output_type": "execute_result"
    }
   ],
   "source": [
    "g_tuple"
   ]
  },
  {
   "cell_type": "code",
   "execution_count": 9,
   "metadata": {},
   "outputs": [
    {
     "name": "stdout",
     "output_type": "stream",
     "text": [
      "nodes is with shape (4, 1)\n",
      "[[0.]\n",
      " [1.]\n",
      " [2.]\n",
      " [3.]]\n",
      "edges is with shape (4, 1)\n",
      "receivers is with shape (4,)\n",
      "[1 2 3 0]\n",
      "senders is with shape (4,)\n",
      "[0 1 2 3]\n",
      "globals EMPTY\n",
      "n_node is with shape (1,)\n",
      "[4]\n",
      "n_edge is with shape (1,)\n",
      "[4]\n"
     ]
    }
   ],
   "source": [
    "print_graphs_tuple(g_tuple)"
   ]
  },
  {
   "cell_type": "markdown",
   "metadata": {},
   "source": [
    "### Create GraphsTuple using data-dict \\[recommend\\]"
   ]
  },
  {
   "cell_type": "code",
   "execution_count": 10,
   "metadata": {},
   "outputs": [],
   "source": [
    "n_node = 4\n",
    "n_node_features = 1\n",
    "n_edge = 4\n",
    "n_edge_features = 1\n",
    "nodes = np.random.rand(n_node, n_node_features).astype(np.float32)\n",
    "edges = np.random.rand(n_edge, n_edge_features).astype(np.float32)\n",
    "receivers = np.array([1, 2, 3, 0])\n",
    "senders = np.array([0, 1, 2, 3])\n",
    "datadict = {\n",
    "    \"n_node\": n_node,\n",
    "    \"n_edge\": n_edge,\n",
    "    \"nodes\": nodes,\n",
    "    \"edges\": edges,\n",
    "    \"senders\": senders,\n",
    "    \"receivers\": receivers,\n",
    "    \"globals\": np.array([0], dtype=np.float32)\n",
    "}"
   ]
  },
  {
   "cell_type": "code",
   "execution_count": 11,
   "metadata": {},
   "outputs": [],
   "source": [
    "g_tuple2 = utils_tf.data_dicts_to_graphs_tuple([datadict])"
   ]
  },
  {
   "cell_type": "code",
   "execution_count": 12,
   "metadata": {},
   "outputs": [
    {
     "name": "stdout",
     "output_type": "stream",
     "text": [
      "nodes is with shape (4, 1)\n",
      "tf.Tensor(\n",
      "[[0.859495  ]\n",
      " [0.0219777 ]\n",
      " [0.09030578]\n",
      " [0.4027286 ]], shape=(4, 1), dtype=float32)\n",
      "edges is with shape (4, 1)\n",
      "receivers is with shape (4,)\n",
      "tf.Tensor([1 2 3 0], shape=(4,), dtype=int32)\n",
      "senders is with shape (4,)\n",
      "tf.Tensor([0 1 2 3], shape=(4,), dtype=int32)\n",
      "globals is with shape (1, 1)\n",
      "tf.Tensor([[0.]], shape=(1, 1), dtype=float32)\n",
      "n_node is with shape (1,)\n",
      "tf.Tensor([4], shape=(1,), dtype=int32)\n",
      "n_edge is with shape (1,)\n",
      "tf.Tensor([4], shape=(1,), dtype=int32)\n"
     ]
    }
   ],
   "source": [
    "print_graphs_tuple(g_tuple2)"
   ]
  },
  {
   "cell_type": "markdown",
   "metadata": {},
   "source": [
    "### Convert an event to a fully-connected graph\n",
    "\n",
    "We take the top tagger dataset as an example: [https://zenodo.org/record/2603256](https://zenodo.org/record/2603256)."
   ]
  },
  {
   "cell_type": "code",
   "execution_count": 13,
   "metadata": {},
   "outputs": [],
   "source": [
    "# change to the directory you saved the data.\n",
    "filename = '/global/homes/x/xju/atlas/data/top-tagger/test.h5'"
   ]
  },
  {
   "cell_type": "code",
   "execution_count": 14,
   "metadata": {},
   "outputs": [],
   "source": [
    "with pd.HDFStore(filename, mode='r') as store:\n",
    "    df = store['table']"
   ]
  },
  {
   "cell_type": "code",
   "execution_count": 15,
   "metadata": {},
   "outputs": [
    {
     "data": {
      "text/html": [
       "<div>\n",
       "<style scoped>\n",
       "    .dataframe tbody tr th:only-of-type {\n",
       "        vertical-align: middle;\n",
       "    }\n",
       "\n",
       "    .dataframe tbody tr th {\n",
       "        vertical-align: top;\n",
       "    }\n",
       "\n",
       "    .dataframe thead th {\n",
       "        text-align: right;\n",
       "    }\n",
       "</style>\n",
       "<table border=\"1\" class=\"dataframe\">\n",
       "  <thead>\n",
       "    <tr style=\"text-align: right;\">\n",
       "      <th></th>\n",
       "      <th>E_0</th>\n",
       "      <th>PX_0</th>\n",
       "      <th>PY_0</th>\n",
       "      <th>PZ_0</th>\n",
       "      <th>E_1</th>\n",
       "      <th>PX_1</th>\n",
       "      <th>PY_1</th>\n",
       "      <th>PZ_1</th>\n",
       "      <th>E_2</th>\n",
       "      <th>PX_2</th>\n",
       "      <th>...</th>\n",
       "      <th>E_199</th>\n",
       "      <th>PX_199</th>\n",
       "      <th>PY_199</th>\n",
       "      <th>PZ_199</th>\n",
       "      <th>truthE</th>\n",
       "      <th>truthPX</th>\n",
       "      <th>truthPY</th>\n",
       "      <th>truthPZ</th>\n",
       "      <th>ttv</th>\n",
       "      <th>is_signal_new</th>\n",
       "    </tr>\n",
       "  </thead>\n",
       "  <tbody>\n",
       "    <tr>\n",
       "      <th>436</th>\n",
       "      <td>218.364243</td>\n",
       "      <td>-172.341858</td>\n",
       "      <td>110.129105</td>\n",
       "      <td>-76.503624</td>\n",
       "      <td>153.661118</td>\n",
       "      <td>-111.320465</td>\n",
       "      <td>93.167969</td>\n",
       "      <td>-50.390713</td>\n",
       "      <td>76.708054</td>\n",
       "      <td>-56.523701</td>\n",
       "      <td>...</td>\n",
       "      <td>0.0</td>\n",
       "      <td>0.0</td>\n",
       "      <td>0.0</td>\n",
       "      <td>0.0</td>\n",
       "      <td>0.0</td>\n",
       "      <td>0.0</td>\n",
       "      <td>0.0</td>\n",
       "      <td>0.0</td>\n",
       "      <td>1</td>\n",
       "      <td>0</td>\n",
       "    </tr>\n",
       "    <tr>\n",
       "      <th>440</th>\n",
       "      <td>122.238762</td>\n",
       "      <td>26.738468</td>\n",
       "      <td>-91.613998</td>\n",
       "      <td>76.382225</td>\n",
       "      <td>121.227135</td>\n",
       "      <td>17.644758</td>\n",
       "      <td>-93.015450</td>\n",
       "      <td>75.715302</td>\n",
       "      <td>90.420105</td>\n",
       "      <td>21.377417</td>\n",
       "      <td>...</td>\n",
       "      <td>0.0</td>\n",
       "      <td>0.0</td>\n",
       "      <td>0.0</td>\n",
       "      <td>0.0</td>\n",
       "      <td>0.0</td>\n",
       "      <td>0.0</td>\n",
       "      <td>0.0</td>\n",
       "      <td>0.0</td>\n",
       "      <td>1</td>\n",
       "      <td>0</td>\n",
       "    </tr>\n",
       "    <tr>\n",
       "      <th>441</th>\n",
       "      <td>383.772308</td>\n",
       "      <td>-97.906456</td>\n",
       "      <td>79.640709</td>\n",
       "      <td>-362.426361</td>\n",
       "      <td>200.625992</td>\n",
       "      <td>-54.921326</td>\n",
       "      <td>37.994343</td>\n",
       "      <td>-189.184753</td>\n",
       "      <td>123.247223</td>\n",
       "      <td>-33.828953</td>\n",
       "      <td>...</td>\n",
       "      <td>0.0</td>\n",
       "      <td>0.0</td>\n",
       "      <td>0.0</td>\n",
       "      <td>0.0</td>\n",
       "      <td>0.0</td>\n",
       "      <td>0.0</td>\n",
       "      <td>0.0</td>\n",
       "      <td>0.0</td>\n",
       "      <td>1</td>\n",
       "      <td>0</td>\n",
       "    </tr>\n",
       "    <tr>\n",
       "      <th>444</th>\n",
       "      <td>132.492752</td>\n",
       "      <td>-77.763947</td>\n",
       "      <td>-87.322601</td>\n",
       "      <td>-62.304600</td>\n",
       "      <td>83.946594</td>\n",
       "      <td>-49.450481</td>\n",
       "      <td>-53.823605</td>\n",
       "      <td>-41.288010</td>\n",
       "      <td>28.072624</td>\n",
       "      <td>-19.964916</td>\n",
       "      <td>...</td>\n",
       "      <td>0.0</td>\n",
       "      <td>0.0</td>\n",
       "      <td>0.0</td>\n",
       "      <td>0.0</td>\n",
       "      <td>0.0</td>\n",
       "      <td>0.0</td>\n",
       "      <td>0.0</td>\n",
       "      <td>0.0</td>\n",
       "      <td>1</td>\n",
       "      <td>0</td>\n",
       "    </tr>\n",
       "    <tr>\n",
       "      <th>445</th>\n",
       "      <td>730.786987</td>\n",
       "      <td>-209.120010</td>\n",
       "      <td>-193.454315</td>\n",
       "      <td>-672.973877</td>\n",
       "      <td>225.477325</td>\n",
       "      <td>-75.363350</td>\n",
       "      <td>-66.226990</td>\n",
       "      <td>-201.926651</td>\n",
       "      <td>217.040192</td>\n",
       "      <td>-63.698189</td>\n",
       "      <td>...</td>\n",
       "      <td>0.0</td>\n",
       "      <td>0.0</td>\n",
       "      <td>0.0</td>\n",
       "      <td>0.0</td>\n",
       "      <td>0.0</td>\n",
       "      <td>0.0</td>\n",
       "      <td>0.0</td>\n",
       "      <td>0.0</td>\n",
       "      <td>1</td>\n",
       "      <td>0</td>\n",
       "    </tr>\n",
       "  </tbody>\n",
       "</table>\n",
       "<p>5 rows × 806 columns</p>\n",
       "</div>"
      ],
      "text/plain": [
       "            E_0        PX_0        PY_0        PZ_0         E_1        PX_1  \\\n",
       "436  218.364243 -172.341858  110.129105  -76.503624  153.661118 -111.320465   \n",
       "440  122.238762   26.738468  -91.613998   76.382225  121.227135   17.644758   \n",
       "441  383.772308  -97.906456   79.640709 -362.426361  200.625992  -54.921326   \n",
       "444  132.492752  -77.763947  -87.322601  -62.304600   83.946594  -49.450481   \n",
       "445  730.786987 -209.120010 -193.454315 -672.973877  225.477325  -75.363350   \n",
       "\n",
       "          PY_1        PZ_1         E_2       PX_2  ...  E_199  PX_199  PY_199  \\\n",
       "436  93.167969  -50.390713   76.708054 -56.523701  ...    0.0     0.0     0.0   \n",
       "440 -93.015450   75.715302   90.420105  21.377417  ...    0.0     0.0     0.0   \n",
       "441  37.994343 -189.184753  123.247223 -33.828953  ...    0.0     0.0     0.0   \n",
       "444 -53.823605  -41.288010   28.072624 -19.964916  ...    0.0     0.0     0.0   \n",
       "445 -66.226990 -201.926651  217.040192 -63.698189  ...    0.0     0.0     0.0   \n",
       "\n",
       "     PZ_199  truthE  truthPX  truthPY  truthPZ  ttv  is_signal_new  \n",
       "436     0.0     0.0      0.0      0.0      0.0    1              0  \n",
       "440     0.0     0.0      0.0      0.0      0.0    1              0  \n",
       "441     0.0     0.0      0.0      0.0      0.0    1              0  \n",
       "444     0.0     0.0      0.0      0.0      0.0    1              0  \n",
       "445     0.0     0.0      0.0      0.0      0.0    1              0  \n",
       "\n",
       "[5 rows x 806 columns]"
      ]
     },
     "execution_count": 15,
     "metadata": {},
     "output_type": "execute_result"
    }
   ],
   "source": [
    "df.head()"
   ]
  },
  {
   "cell_type": "code",
   "execution_count": 16,
   "metadata": {},
   "outputs": [
    {
     "data": {
      "text/plain": [
       "E_0              218.364243\n",
       "PX_0            -172.341858\n",
       "PY_0             110.129105\n",
       "PZ_0             -76.503624\n",
       "E_1              153.661118\n",
       "                    ...    \n",
       "truthPX            0.000000\n",
       "truthPY            0.000000\n",
       "truthPZ            0.000000\n",
       "ttv                1.000000\n",
       "is_signal_new      0.000000\n",
       "Name: 436, Length: 806, dtype: float64"
      ]
     },
     "execution_count": 16,
     "metadata": {},
     "output_type": "execute_result"
    }
   ],
   "source": [
    "event = df.iloc[0]\n",
    "event"
   ]
  },
  {
   "cell_type": "code",
   "execution_count": 17,
   "metadata": {},
   "outputs": [],
   "source": [
    "features = ['E', 'PX', 'PY', 'PZ']\n",
    "scale = 0.001\n",
    "solution = 'is_signal_new'\n",
    "\n",
    "def make_graph(event, debug: Optional[bool] = False):\n",
    "    n_max_nodes = 200\n",
    "    n_nodes = 0\n",
    "    nodes = []\n",
    "    for inode in range(n_max_nodes):\n",
    "        E_name = 'E_{}'.format(inode)\n",
    "        if event[E_name] < 0.1:\n",
    "            continue\n",
    "\n",
    "        f_keynames = ['{}_{}'.format(x, inode) for x in features]\n",
    "        n_nodes += 1\n",
    "        nodes.append(event[f_keynames].values*scale)\n",
    "    nodes = np.array(nodes, dtype=np.float32)\n",
    "\n",
    "    # to make a bi-directional fully connected graph\n",
    "    all_edges = list(itertools.combinations(range(n_nodes), 2))\n",
    "    senders = np.array([x[0] for x in all_edges])\n",
    "    receivers = np.array([x[1] for x in all_edges])\n",
    "    n_edges = len(all_edges)\n",
    "    edges = np.expand_dims(np.array([0.0]*n_edges, dtype=np.float32), axis=1)\n",
    "\n",
    "    input_datadict = {\n",
    "        \"n_node\": n_nodes,\n",
    "        \"n_edge\": n_edges,\n",
    "        \"nodes\": nodes,\n",
    "        \"edges\": edges,\n",
    "        \"senders\": senders,\n",
    "        \"receivers\": receivers,\n",
    "        \"globals\": np.array([n_nodes], dtype=np.float32)\n",
    "    }\n",
    "    target_datadict = {\n",
    "        \"n_node\": n_nodes,\n",
    "        \"n_edge\": n_edges,\n",
    "        \"nodes\": nodes,\n",
    "        \"edges\": edges,\n",
    "        \"senders\": senders,\n",
    "        \"receivers\": receivers,\n",
    "        \"globals\": np.array([event[solution]], dtype=np.float32)\n",
    "    }\n",
    "    input_graph = utils_tf.data_dicts_to_graphs_tuple([input_datadict])\n",
    "    target_graph = utils_tf.data_dicts_to_graphs_tuple([target_datadict])\n",
    "    return [(input_graph, target_graph)]"
   ]
  },
  {
   "cell_type": "code",
   "execution_count": 18,
   "metadata": {},
   "outputs": [],
   "source": [
    "graphs = make_graph(event)"
   ]
  },
  {
   "cell_type": "code",
   "execution_count": 19,
   "metadata": {},
   "outputs": [],
   "source": [
    "g_evt_input, g_evt_target = graphs[0]"
   ]
  },
  {
   "cell_type": "code",
   "execution_count": 20,
   "metadata": {},
   "outputs": [
    {
     "name": "stdout",
     "output_type": "stream",
     "text": [
      "nodes is with shape (17, 4)\n",
      "edges is with shape (136, 1)\n",
      "receivers is with shape (136,)\n",
      "senders is with shape (136,)\n",
      "globals is with shape (1, 1)\n",
      "n_node is with shape (1,)\n",
      "n_edge is with shape (1,)\n"
     ]
    }
   ],
   "source": [
    "print_graphs_tuple(g_evt_input, data=False)"
   ]
  },
  {
   "cell_type": "code",
   "execution_count": 21,
   "metadata": {},
   "outputs": [
    {
     "data": {
      "text/plain": [
       "136"
      ]
     },
     "execution_count": 21,
     "metadata": {},
     "output_type": "execute_result"
    }
   ],
   "source": [
    "17*16//2"
   ]
  },
  {
   "cell_type": "code",
   "execution_count": 22,
   "metadata": {},
   "outputs": [
    {
     "data": {
      "text/plain": [
       "<tf.Tensor: shape=(1, 1), dtype=float32, numpy=array([[0.]], dtype=float32)>"
      ]
     },
     "execution_count": 22,
     "metadata": {},
     "output_type": "execute_result"
    }
   ],
   "source": [
    "g_evt_target.globals"
   ]
  },
  {
   "cell_type": "markdown",
   "metadata": {},
   "source": [
    "Convert all events into graphs and save these graphs for training"
   ]
  },
  {
   "cell_type": "code",
   "execution_count": 23,
   "metadata": {},
   "outputs": [],
   "source": [
    "def read(filename):\n",
    "    with pd.HDFStore(filename, mode='r') as store:\n",
    "        df = store['table']\n",
    "\n",
    "    for ievt in range(df.shape[0]):\n",
    "        yield df.iloc[ievt]"
   ]
  },
  {
   "cell_type": "code",
   "execution_count": 24,
   "metadata": {},
   "outputs": [],
   "source": [
    "from root_gnn.src.datasets.base import DataSet"
   ]
  },
  {
   "cell_type": "code",
   "execution_count": 25,
   "metadata": {},
   "outputs": [],
   "source": [
    "class TopTaggerDataset(DataSet):\n",
    "    def __init__(self, *args, **kwargs):\n",
    "        super().__init__(*args, **kwargs)\n",
    "        self.read = read\n",
    "        self.make_graph = make_graph\n",
    "\n",
    "    def _num_evts(self, filename):\n",
    "        with pd.HDFStore(filename, mode='r') as store:\n",
    "            df = store['table']\n",
    "        return df.shape[0]"
   ]
  },
  {
   "cell_type": "code",
   "execution_count": 26,
   "metadata": {},
   "outputs": [],
   "source": [
    "data = TopTaggerDataset()"
   ]
  },
  {
   "cell_type": "code",
   "execution_count": 27,
   "metadata": {},
   "outputs": [],
   "source": [
    "tr_filename = '/global/homes/x/xju/atlas/data/top-tagger/train.h5'\n",
    "n_evts_per_record = 10\n",
    "debug = False\n",
    "max_evts = 100\n",
    "num_workers = 1\n",
    "overwrite = False"
   ]
  },
  {
   "cell_type": "code",
   "execution_count": 28,
   "metadata": {},
   "outputs": [
    {
     "name": "stdout",
     "output_type": "stream",
     "text": [
      "Total 100 events are requested to be written to 10 files with 1 workers\n",
      "TopTaggerDataset added 100 events, in 4.6 mins\n",
      "0 events failed in being converted to graph\n"
     ]
    }
   ],
   "source": [
    "# using multiprocessing in jupyter notebook seems problematic..\n",
    "# It is a slow process. Suggest adding the new DataSet class to root_gnn.dataset\n",
    "# and use the `create_tfrecord` script to process the events\n",
    "\n",
    "data.process(filename=tr_filename, outname=\"TopTagger/trainning\",\\\n",
    "    n_evts_per_record=n_evts_per_record, debug=debug,\n",
    "    max_evts=max_evts, num_workers=num_workers, overwrite=overwrite)"
   ]
  },
  {
   "cell_type": "code",
   "execution_count": 29,
   "metadata": {},
   "outputs": [
    {
     "name": "stdout",
     "output_type": "stream",
     "text": [
      "trainning_0.tfrec  trainning_3.tfrec  trainning_6.tfrec  trainning_9.tfrec\n",
      "trainning_1.tfrec  trainning_4.tfrec  trainning_7.tfrec\n",
      "trainning_2.tfrec  trainning_5.tfrec  trainning_8.tfrec\n"
     ]
    }
   ],
   "source": [
    "!ls TopTagger"
   ]
  },
  {
   "cell_type": "code",
   "execution_count": 30,
   "metadata": {},
   "outputs": [
    {
     "name": "stdout",
     "output_type": "stream",
     "text": [
      "2021-07-06 23:17:05.049322: I tensorflow/stream_executor/platform/default/dso_loader.cc:49] Successfully opened dynamic library libcudart.so.11.0\n",
      "Shuffling input files\n",
      "Total 10 files\n",
      "Training   8 files\n",
      "Validation 1 files\n",
      "Testing    1 files\n"
     ]
    }
   ],
   "source": [
    "!split_files_for_nn TopTagger inputs"
   ]
  },
  {
   "cell_type": "code",
   "execution_count": 31,
   "metadata": {},
   "outputs": [
    {
     "name": "stdout",
     "output_type": "stream",
     "text": [
      "test  train  val\n"
     ]
    }
   ],
   "source": [
    "!ls inputs"
   ]
  },
  {
   "cell_type": "markdown",
   "metadata": {},
   "source": [
    "### 3. Training GNN"
   ]
  },
  {
   "cell_type": "code",
   "execution_count": 1,
   "metadata": {
    "tags": []
   },
   "outputs": [
    {
     "name": "stdout",
     "output_type": "stream",
     "text": [
      "INFO:tensorflow:TF Version:2.4.0\n"
     ]
    }
   ],
   "source": [
    "import matplotlib.pyplot as plt\n",
    "import numpy as np\n",
    "import pandas as pd\n",
    "import networkx as nx\n",
    "\n",
    "from graph_nets import utils_np\n",
    "from graph_nets import utils_tf\n",
    "from graph_nets import graphs as Graphs\n",
    "import sonnet as snt\n",
    "\n",
    "import itertools\n",
    "from typing import Optional\n",
    "\n",
    "\n",
    "from root_gnn import model as Models\n",
    "from root_gnn import losses\n",
    "from root_gnn.trainer import Trainer"
   ]
  },
  {
   "cell_type": "code",
   "execution_count": 2,
   "metadata": {},
   "outputs": [
    {
     "name": "stdout",
     "output_type": "stream",
     "text": [
      "/global/homes/x/xju/.conda/envs/tf2.4/lib/python3.8/site-packages/root_gnn/model.py\n"
     ]
    }
   ],
   "source": [
    "print(Models.__file__)"
   ]
  },
  {
   "cell_type": "code",
   "execution_count": 10,
   "metadata": {},
   "outputs": [],
   "source": [
    "model = Models.GlobalClassifier(encoder_size=[256, 256], core_size=[256, 256], decoder_size=[256, 256])"
   ]
  },
  {
   "cell_type": "code",
   "execution_count": 11,
   "metadata": {},
   "outputs": [],
   "source": [
    "loss_fcn = losses.GlobalLoss(real_global_weight=1., fake_global_weight=1.)"
   ]
  },
  {
   "cell_type": "code",
   "execution_count": 5,
   "metadata": {},
   "outputs": [],
   "source": [
    "learning_rate = 0.0005\n",
    "optimizer = snt.optimizers.Adam(learning_rate)"
   ]
  },
  {
   "cell_type": "code",
   "execution_count": 6,
   "metadata": {},
   "outputs": [
    {
     "name": "stdout",
     "output_type": "stream",
     "text": [
      "train_105.tfrec  train_177.tfrec  train_214.tfrec  train_34.tfrec\n",
      "train_113.tfrec  train_190.tfrec  train_217.tfrec  train_3.tfrec\n",
      "train_14.tfrec\t train_205.tfrec  train_219.tfrec  train_49.tfrec\n",
      "train_157.tfrec  train_209.tfrec  train_226.tfrec  train_59.tfrec\n",
      "train_160.tfrec  train_212.tfrec  train_235.tfrec  train_73.tfrec\n",
      "train_161.tfrec  train_213.tfrec  train_28.tfrec   train_98.tfrec\n"
     ]
    }
   ],
   "source": [
    "!ls /global/homes/x/xju/atlas/TopTagger/inputs/val"
   ]
  },
  {
   "cell_type": "code",
   "execution_count": 7,
   "metadata": {},
   "outputs": [
    {
     "name": "stdout",
     "output_type": "stream",
     "text": [
      "/global/homes/x/xju/.conda/envs/tf2.4/bin/python\n"
     ]
    }
   ],
   "source": [
    "!which python"
   ]
  },
  {
   "cell_type": "code",
   "execution_count": 14,
   "metadata": {},
   "outputs": [],
   "source": [
    "# mode, -> 'rgr,globals', ['clf', 'rgr'], ['globals', 'edges']\n",
    "trainer = Trainer(input_dir=\"/global/homes/x/xju/atlas/TopTagger/inputs\",\n",
    "                  output_dir=\"/global/homes/x/xju/atlas/TopTagger/trainedTopTagger2\",\n",
    "                  model=model, loss_fcn=loss_fcn, optimizer=optimizer,\n",
    "                  evts_per_file=5000, mode='clf,globals', batch_size=10,\n",
    "                  val_batches=10, log_freq=10, patiences=10,\n",
    "                 )"
   ]
  },
  {
   "cell_type": "code",
   "execution_count": 15,
   "metadata": {},
   "outputs": [
    {
     "name": "stdout",
     "output_type": "stream",
     "text": [
      "INFO:tensorflow:Loading latest checkpoint from: /global/homes/x/xju/atlas/TopTagger/trainedTopTagger2/checkpoints\n"
     ]
    },
    {
     "name": "stderr",
     "output_type": "stream",
     "text": [
      "  0%|          | 0/100 [00:00<?, ?it/s]"
     ]
    },
    {
     "name": "stdout",
     "output_type": "stream",
     "text": [
      "Training starts with 970000 graphs with batch size of 10 for 1 epochs\n",
      "runing 100 steps, 97000 steps per epoch, and stop on variable val_loss\n",
      "Tracing update_step\n"
     ]
    },
    {
     "name": "stderr",
     "output_type": "stream",
     "text": [
      "  1%|          | 1/100 [00:08<13:34,  8.23s/it]"
     ]
    },
    {
     "name": "stdout",
     "output_type": "stream",
     "text": [
      ">>>1,908,481 trainable parameters<<<\n"
     ]
    },
    {
     "name": "stderr",
     "output_type": "stream",
     "text": [
      " 10%|█         | 10/100 [00:23<01:26,  1.04it/s, acc=0.87, auc=0.956, loss=0.349, pre=0.718, rec=0.933, val_loss=0.273]"
     ]
    },
    {
     "name": "stdout",
     "output_type": "stream",
     "text": [
      "WARNING:tensorflow:Unresolved object in checkpoint: (root).model._edge_encoder_block._edge_model._layers.1.scale\n",
      "WARNING:tensorflow:Unresolved object in checkpoint: (root).model._edge_encoder_block._edge_model._layers.1.offset\n",
      "WARNING:tensorflow:Unresolved object in checkpoint: (root).model._node_encoder_block._node_model._layers.1.scale\n",
      "WARNING:tensorflow:Unresolved object in checkpoint: (root).model._node_encoder_block._node_model._layers.1.offset\n",
      "WARNING:tensorflow:Unresolved object in checkpoint: (root).model._global_block._global_model._layers.1.scale\n",
      "WARNING:tensorflow:Unresolved object in checkpoint: (root).model._global_block._global_model._layers.1.offset\n",
      "WARNING:tensorflow:Unresolved object in checkpoint: (root).model._edge_encoder_block._edge_model._layers.0._layers.0.w\n",
      "WARNING:tensorflow:Unresolved object in checkpoint: (root).model._edge_encoder_block._edge_model._layers.0._layers.0.b\n",
      "WARNING:tensorflow:Unresolved object in checkpoint: (root).model._edge_encoder_block._edge_model._layers.0._layers.1.w\n",
      "WARNING:tensorflow:Unresolved object in checkpoint: (root).model._edge_encoder_block._edge_model._layers.0._layers.1.b\n",
      "WARNING:tensorflow:Unresolved object in checkpoint: (root).model._node_encoder_block._node_model._layers.0._layers.0.b\n",
      "WARNING:tensorflow:Unresolved object in checkpoint: (root).model._node_encoder_block._node_model._layers.0._layers.1.w\n",
      "WARNING:tensorflow:Unresolved object in checkpoint: (root).model._node_encoder_block._node_model._layers.0._layers.1.b\n",
      "WARNING:tensorflow:Unresolved object in checkpoint: (root).model._global_block._global_model._layers.0._layers.0.w\n",
      "WARNING:tensorflow:Unresolved object in checkpoint: (root).model._global_block._global_model._layers.0._layers.0.b\n",
      "WARNING:tensorflow:Unresolved object in checkpoint: (root).model._global_block._global_model._layers.0._layers.1.w\n",
      "WARNING:tensorflow:Unresolved object in checkpoint: (root).model._global_block._global_model._layers.0._layers.1.b\n",
      "WARNING:tensorflow:Unresolved object in checkpoint: (root).model._core._network._edge_block._edge_model._layers.1.scale\n",
      "WARNING:tensorflow:Unresolved object in checkpoint: (root).model._core._network._edge_block._edge_model._layers.1.offset\n",
      "WARNING:tensorflow:Unresolved object in checkpoint: (root).model._core._network._node_block._node_model._layers.1.scale\n",
      "WARNING:tensorflow:Unresolved object in checkpoint: (root).model._core._network._node_block._node_model._layers.1.offset\n",
      "WARNING:tensorflow:Unresolved object in checkpoint: (root).model._core._network._global_block._global_model._layers.1.scale\n",
      "WARNING:tensorflow:Unresolved object in checkpoint: (root).model._core._network._global_block._global_model._layers.1.offset\n",
      "WARNING:tensorflow:Unresolved object in checkpoint: (root).model._output_transform._global_model._model._layers.0._layers.1\n",
      "WARNING:tensorflow:Unresolved object in checkpoint: (root).model._output_transform._global_model._model._layers.0._layers.2\n",
      "WARNING:tensorflow:Unresolved object in checkpoint: (root).model._output_transform._global_model._model._layers.0._layers.0.w\n",
      "WARNING:tensorflow:Unresolved object in checkpoint: (root).model._output_transform._global_model._model._layers.0._layers.0.b\n",
      "WARNING:tensorflow:Unresolved object in checkpoint: (root).model._output_transform._global_model._model._layers.0._layers.1.w\n",
      "WARNING:tensorflow:Unresolved object in checkpoint: (root).model._output_transform._global_model._model._layers.0._layers.1.b\n",
      "WARNING:tensorflow:Unresolved object in checkpoint: (root).model._output_transform._global_model._model._layers.0._layers.2.w\n",
      "WARNING:tensorflow:Unresolved object in checkpoint: (root).model._output_transform._global_model._model._layers.0._layers.2.b\n",
      "WARNING:tensorflow:Unresolved object in checkpoint: (root).model._core._network._edge_block._edge_model._layers.0._layers.0.w\n",
      "WARNING:tensorflow:Unresolved object in checkpoint: (root).model._core._network._edge_block._edge_model._layers.0._layers.0.b\n",
      "WARNING:tensorflow:Unresolved object in checkpoint: (root).model._core._network._edge_block._edge_model._layers.0._layers.1.w\n",
      "WARNING:tensorflow:Unresolved object in checkpoint: (root).model._core._network._edge_block._edge_model._layers.0._layers.1.b\n",
      "WARNING:tensorflow:Unresolved object in checkpoint: (root).model._core._network._node_block._node_model._layers.0._layers.0.w\n",
      "WARNING:tensorflow:Unresolved object in checkpoint: (root).model._core._network._node_block._node_model._layers.0._layers.0.b\n",
      "WARNING:tensorflow:Unresolved object in checkpoint: (root).model._core._network._node_block._node_model._layers.0._layers.1.w\n",
      "WARNING:tensorflow:Unresolved object in checkpoint: (root).model._core._network._node_block._node_model._layers.0._layers.1.b\n",
      "WARNING:tensorflow:Unresolved object in checkpoint: (root).model._core._network._global_block._global_model._layers.0._layers.0.w\n",
      "WARNING:tensorflow:Unresolved object in checkpoint: (root).model._core._network._global_block._global_model._layers.0._layers.0.b\n",
      "WARNING:tensorflow:Unresolved object in checkpoint: (root).model._core._network._global_block._global_model._layers.0._layers.1.w\n",
      "WARNING:tensorflow:Unresolved object in checkpoint: (root).model._core._network._global_block._global_model._layers.0._layers.1.b\n",
      "WARNING:tensorflow:A checkpoint was restored (e.g. tf.train.Checkpoint.restore or tf.keras.Model.load_weights) but not all checkpointed values were used. See above for specific issues. Use expect_partial() on the load status object, e.g. tf.train.Checkpoint.restore(...).expect_partial(), to silence these warnings, or use assert_consumed() to make the check explicit. See https://www.tensorflow.org/guide/checkpoint#loading_mechanics for details.\n"
     ]
    },
    {
     "name": "stderr",
     "output_type": "stream",
     "text": [
      "100%|██████████| 100/100 [02:27<00:00,  1.48s/it, acc=0.74, auc=0.904, loss=0.453, pre=0.886, rec=0.65, val_loss=0.516]\n"
     ]
    }
   ],
   "source": [
    "## training for 100 batches\n",
    "trainer.train(100)"
   ]
  },
  {
   "cell_type": "code",
   "execution_count": 16,
   "metadata": {},
   "outputs": [],
   "source": [
    "trainer.load_testing_data()"
   ]
  },
  {
   "cell_type": "code",
   "execution_count": 19,
   "metadata": {},
   "outputs": [],
   "source": [
    "from root_gnn.utils_plot import plot_metrics"
   ]
  },
  {
   "cell_type": "code",
   "execution_count": 24,
   "metadata": {},
   "outputs": [],
   "source": [
    "predictions, truth_info = [], []\n",
    "for _ in range(100):\n",
    "    inputs, targets = next(trainer.data_test)\n",
    "    outputs = trainer.model(inputs, trainer.num_iters, is_training=False)\n",
    "    output = outputs[-1]\n",
    "    predictions.append(output.globals)\n",
    "    truth_info.append(targets.globals)"
   ]
  },
  {
   "cell_type": "code",
   "execution_count": 25,
   "metadata": {},
   "outputs": [],
   "source": [
    "predictions = np.concatenate(predictions, axis=0)\n",
    "truth_info = np.concatenate(truth_info, axis=0)"
   ]
  },
  {
   "cell_type": "code",
   "execution_count": 27,
   "metadata": {},
   "outputs": [
    {
     "data": {
      "text/plain": [
       "(1000, 1)"
      ]
     },
     "execution_count": 27,
     "metadata": {},
     "output_type": "execute_result"
    }
   ],
   "source": [
    "predictions.shape"
   ]
  },
  {
   "cell_type": "code",
   "execution_count": 26,
   "metadata": {},
   "outputs": [
    {
     "name": "stdout",
     "output_type": "stream",
     "text": [
      "                     0.10    0.50    0.80\n",
      "Accuracy:            0.8280 0.7670 0.4770\n",
      "Precision (purity):  0.7716 0.9138 1.0000\n",
      "Recall (efficiency): 0.9764 0.6364 0.0491\n",
      "AUC: 0.9271\n"
     ]
    },
    {
     "data": {
      "image/png": "[encoded data removed]",
      "text/plain": [
       "<Figure size 864x720 with 4 Axes>"
      ]
     },
     "metadata": {
      "needs_background": "light"
     },
     "output_type": "display_data"
    }
   ],
   "source": [
    "plot_metrics(np.array(predictions), np.array(truth_info))"
   ]
  }
 ],
 "metadata": {
  "kernelspec": {
   "display_name": "GNN",
   "language": "python",
   "name": "gnn"
  },
  "language_info": {
   "codemirror_mode": {
    "name": "ipython",
    "version": 3
   },
   "file_extension": ".py",
   "mimetype": "text/x-python",
   "name": "python",
   "nbconvert_exporter": "python",
   "pygments_lexer": "ipython3",
   "version": "3.8.13"
  }
 },
 "nbformat": 4,
 "nbformat_minor": 4
}
